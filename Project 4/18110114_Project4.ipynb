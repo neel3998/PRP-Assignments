{
  "nbformat": 4,
  "nbformat_minor": 0,
  "metadata": {
    "colab": {
      "name": "18110114_Assignment4.ipynb",
      "provenance": [],
      "collapsed_sections": [
        "sw2HpSOGJHGk"
      ]
    },
    "kernelspec": {
      "name": "python3",
      "display_name": "Python 3"
    },
    "language_info": {
      "name": "python"
    }
  },
  "cells": [
    {
      "cell_type": "markdown",
      "metadata": {
        "id": "sw2HpSOGJHGk"
      },
      "source": [
        "## Utils"
      ]
    },
    {
      "cell_type": "code",
      "metadata": {
        "id": "UevqwQIGHj9T"
      },
      "source": [
        "#taken from this StackOverflow answer: https://stackoverflow.com/a/39225039\n",
        "import requests\n",
        "\n",
        "def download_file_from_google_drive(id, destination):\n",
        "    URL = \"https://docs.google.com/uc?export=download\"\n",
        "\n",
        "    session = requests.Session()\n",
        "\n",
        "    response = session.get(URL, params = { 'id' : id }, stream = True)\n",
        "    token = get_confirm_token(response)\n",
        "\n",
        "    if token:\n",
        "        params = { 'id' : id, 'confirm' : token }\n",
        "        response = session.get(URL, params = params, stream = True)\n",
        "\n",
        "    save_response_content(response, destination)    \n",
        "\n",
        "def get_confirm_token(response):\n",
        "    for key, value in response.cookies.items():\n",
        "        if key.startswith('download_warning'):\n",
        "            return value\n",
        "\n",
        "    return None\n",
        "\n",
        "def save_response_content(response, destination):\n",
        "    CHUNK_SIZE = 32768\n",
        "\n",
        "    with open(destination, \"wb\") as f:\n",
        "        for chunk in response.iter_content(CHUNK_SIZE):\n",
        "            if chunk: # filter out keep-alive new chunks\n",
        "                f.write(chunk)\n",
        "\n",
        "file_id = '1-koULT_rZz1E6VJJVYa-hnLXdy6XSZe2'\n",
        "destination = '/content/data.zip'\n",
        "download_file_from_google_drive(file_id, destination)"
      ],
      "execution_count": 2,
      "outputs": []
    },
    {
      "cell_type": "code",
      "metadata": {
        "id": "KnAra10oI-Jw"
      },
      "source": [
        "!unzip -q data.zip\n",
        "!rm -rf data.zip"
      ],
      "execution_count": 3,
      "outputs": []
    },
    {
      "cell_type": "markdown",
      "metadata": {
        "id": "rnPZVEX8JBph"
      },
      "source": [
        "# Regression with RANSAC for Robust curve fitting (2 mark)"
      ]
    },
    {
      "cell_type": "markdown",
      "metadata": {
        "id": "i7iiCqNk6FWG"
      },
      "source": [
        "For a given polynomial, \\\\\n",
        "$$y_{i}=\\beta_{0}+\\beta_{1} x_{i}+\\beta_{2} x_{i}^{2}+\\cdots+\\beta_{m} x_{i}^{m}+\\varepsilon_{i}(i=1,2, \\ldots, n)$$\n",
        "\n",
        "we can express it in a form of matrix $\\mathbf{X}$, a response vector or $\\vec{y}$, a parameter vector $\\vec{\\beta}$, and a vector $\\vec{\\varepsilon}$ of random errors. The model can be represented as system of linear equations, i.e.\n",
        "\n",
        "\n",
        "\n",
        "$$\\left[\\begin{array}{c}y_{1} \\\\ y_{2} \\\\ y_{3} \\\\ \\vdots \\\\ y_{n}\\end{array}\\right]=\\left[\\begin{array}{ccccc}1 & x_{1} & x_{1}^{2} & \\ldots & x_{1}^{m} \\\\ 1 & x_{2} & x_{2}^{2} & \\ldots & x_{2}^{m} \\\\ 1 & x_{3} & x_{3}^{2} & \\ldots & x_{3}^{m} \\\\ \\vdots & \\vdots & \\vdots & \\ddots & \\vdots \\\\ 1 & x_{n} & x_{n}^{2} & \\ldots & x_{n}^{m}\\end{array}\\right]\\left[\\begin{array}{c}\\beta_{0} \\\\ \\beta_{1} \\\\ \\beta_{2} \\\\ \\vdots \\\\ \\beta_{m}\\end{array}\\right]+\\left[\\begin{array}{c}\\varepsilon_{1} \\\\ \\varepsilon_{2} \\\\ \\varepsilon_{3} \\\\ \\vdots \\\\ \\varepsilon_{n}\\end{array}\\right]$$\n",
        "\n",
        "$$or$$\n",
        "\n",
        "$$\\vec{y}=\\mathbf{X} \\vec{\\beta}+\\vec{\\varepsilon}$$\n",
        "\n",
        "For this system, we can calculate $\\vec{\\beta}$ by using the following formula,\n",
        "$$\n",
        "\\widehat{\\vec{\\beta}}=\\left(\\mathbf{X}^{\\top} \\mathbf{X}\\right)^{-1} \\mathbf{X}^{\\top} \\vec{y}\n",
        "$$\n",
        "\n",
        "Using **RANSAC**, we want to avoid outliers in our curve fitting, and thus we will calculate multiple $\\vec{\\beta_i}$s using a set of datapoints. After calculating several $\\vec{\\beta_i}$ we will find the best value of ${\\beta}$ using _least squares_."
      ]
    },
    {
      "cell_type": "code",
      "metadata": {
        "id": "YLaTPzG6azrs"
      },
      "source": [
        "class Regression:\n",
        "    def __init__(self,order,bias=True):\n",
        "        \"\"\"\n",
        "        Initialize regressor\n",
        "        :param order: order of the polynomial\n",
        "        :param bias: boolean, True for our case\n",
        "        \"\"\"\n",
        "\n",
        "        self.order = order\n",
        "        self.bias = bias\n",
        "        self.best_beta=None\n",
        "        self.beta = np.zeros(order + bias)\n",
        "\n",
        "    def curve_fit(self,x,y,n):\n",
        "        temp=[]\n",
        "        for i in range(n):\n",
        "          temp.append([x[i]**j for j in range(self.order+1)])\n",
        "        temp=np.array(temp)\n",
        " \n",
        "        y=np.array(y)\n",
        "\n",
        "        Xt = np.transpose(temp)\n",
        "\n",
        "        XtX = np.dot(Xt,temp)\n",
        "        Xty = np.dot(Xt,y)\n",
        "        self.beta = np.linalg.solve(XtX,Xty)\n",
        "        \n",
        "        \n",
        "    def solve(self,x,y,n,iterations=10000):\n",
        "        '''\n",
        "        # For 1.5 marks\n",
        "        Function to solve regression using RANSAC\n",
        "        :param x: input\n",
        "        :param y: output\n",
        "        :param n: number of dataset per iteration \n",
        "        :param iterations: number of iterations to find best beta \n",
        "        '''\n",
        "\n",
        "        self.x=x\n",
        "        self.y=y\n",
        "        t=0.5\n",
        "        d=0\n",
        "        max_error=10**18\n",
        "        while iterations>0:\n",
        "          all_indices = np.arange(len(x))\n",
        "          np.random.shuffle(all_indices)\n",
        "          maybe_indices = all_indices[:n]\n",
        "          other_indices = all_indices[n:]\n",
        "\n",
        "          maybe_points_x=np.array(x)[maybe_indices]\n",
        "          maybe_points_y=np.array(y)[maybe_indices]\n",
        "\n",
        "          other_points_x=np.array(x)[other_indices]\n",
        "          other_points_y=np.array(y)[other_indices]\n",
        "\n",
        "          other_maybe_points_x=[]\n",
        "          other_maybe_points_y=[]\n",
        "          self.curve_fit(list(maybe_points_x),list(maybe_points_y),n)\n",
        "          for i in range(len(other_points_x)):\n",
        "            a=[other_points_x[i]**j for j in range(self.order+1)]\n",
        "            a1=np.transpose(np.array(a))\n",
        "            c=np.dot(self.beta,a1)\n",
        "\n",
        "            if c<t:\n",
        "              other_maybe_points_x.append(other_points_x[i])\n",
        "              other_maybe_points_y.append(other_points_y[i])\n",
        "      \n",
        "          if len(other_maybe_points_x)>=d:\n",
        "            d=max(d,len(other_maybe_points_x))\n",
        "\n",
        "            self.curve_fit(list(maybe_points_x)+list(other_maybe_points_x),list(maybe_points_y)+list(other_maybe_points_y),n+len(other_maybe_points_x))\n",
        "            error=0\n",
        "            temp3=list(maybe_points_x)+list(other_maybe_points_x)\n",
        "            temp4=list(maybe_points_y)+list(other_maybe_points_y)\n",
        "            for i in range(len(temp3)):\n",
        "              v=np.dot(self.beta,np.array([temp3[i]**j for j in range(self.order+1)]))\n",
        "              error+= (v-temp4[i])**2\n",
        "            if error<max_error:\n",
        "              self.best_beta=self.beta\n",
        "              max_error=error\n",
        "          \n",
        "            \n",
        "          iterations-=1\n",
        "\n",
        " \n",
        "        print(self.best_beta)\n",
        "        print('The best least square error is')\n",
        "        blse=0\n",
        "        for i in range(len(x)):\n",
        "          v=np.dot(self.best_beta,np.array([x[i]**j for j in range(self.order+1)]))\n",
        "          blse+= (v-y[i])**2\n",
        "        print(blse)\n",
        "\n",
        "        return self.best_beta\n",
        "    \n",
        "    def visualize(self,show=False):\n",
        "        '''\n",
        "        # For 0.5 marks\n",
        "        function to visualize datapoints and optimal solution.\n",
        "        '''\n",
        "\n",
        "\n",
        "        x_min=min(self.x)\n",
        "        x_max=max(self.x)\n",
        "        x_dash=[]\n",
        "        y_dash=[]\n",
        "        \n",
        "        while(x_min<x_max):\n",
        "          x_dash.append(x_min)\n",
        "          c1=0\n",
        "          for i in range(self.order+1):\n",
        "            c1+=self.best_beta[i]*(x_min**i)\n",
        "          y_dash.append(c1)\n",
        "          x_min+=0.01\n",
        "        plt.scatter(self.x,self.y)\n",
        "        plt.plot(x_dash,y_dash,'r')\n",
        "\n",
        "        if show:\n",
        "            plt.show()\n",
        "        return None\n",
        "  "
      ],
      "execution_count": 4,
      "outputs": []
    },
    {
      "cell_type": "markdown",
      "metadata": {
        "id": "Kg39Ez-ELyIC"
      },
      "source": [
        "## Solve and Visualize for 2nd Order (1.5 mark)\n",
        "\n",
        "Load the dataset, solve the regression, and finally report the coeffecients, with best least square error. Also visualize it on graph."
      ]
    },
    {
      "cell_type": "code",
      "metadata": {
        "id": "w22oHuxQLwiK",
        "colab": {
          "base_uri": "https://localhost:8080/",
          "height": 338
        },
        "outputId": "24ecdb70-f2d7-441f-9d90-abc5bc87c11a"
      },
      "source": [
        "import pandas as pd\n",
        "import numpy as np\n",
        "import matplotlib.pyplot as plt\n",
        "\n",
        "df=pd.read_csv('2nd_order.csv')\n",
        "x=list(df['x'])\n",
        "y=list(df['y'])\n",
        "\n",
        "a=Regression(2)\n",
        "print('The coeffecients of the best fit (in order of β0, β1, β2) are:')\n",
        "a.solve(x,y,40)\n",
        "a.visualize(True)"
      ],
      "execution_count": 5,
      "outputs": [
        {
          "output_type": "stream",
          "name": "stdout",
          "text": [
            "The coeffecients of the best fit (in order of β0, β1, β2) are:\n",
            "[1.27498724 2.43648501 2.58885652]\n",
            "The best least square error is\n",
            "158.5273715500635\n"
          ]
        },
        {
          "output_type": "display_data",
          "data": {
            "image/png": "[encoded data removed]",
            "text/plain": [
              "<Figure size 432x288 with 1 Axes>"
            ]
          },
          "metadata": {
            "needs_background": "light"
          }
        }
      ]
    },
    {
      "cell_type": "markdown",
      "metadata": {
        "id": "eqG85M14L2IJ"
      },
      "source": [
        "## Solve and Visualize for 3rd Order (1.5 mark)"
      ]
    },
    {
      "cell_type": "code",
      "metadata": {
        "id": "8RIsA7kCLvWa",
        "colab": {
          "base_uri": "https://localhost:8080/",
          "height": 338
        },
        "outputId": "a917f12b-461a-49eb-8d24-04e6a3c31341"
      },
      "source": [
        "import pandas as pd\n",
        "import numpy as np\n",
        "import matplotlib.pyplot as plt\n",
        "\n",
        "df=pd.read_csv('3rd_order.csv')\n",
        "x=list(df['x'])\n",
        "y=list(df['y'])\n",
        "\n",
        "a=Regression(3)\n",
        "print('The coeffecients of the best fit (in order of β0, β1, β2, β3) are:')\n",
        "a.solve(x,y,40)\n",
        "a.visualize(True)"
      ],
      "execution_count": 8,
      "outputs": [
        {
          "output_type": "stream",
          "name": "stdout",
          "text": [
            "The coeffecients of the best fit (in order of β0, β1, β2, β3) are:\n",
            "[0.52132065 1.36917419 4.12831602 4.92624513]\n",
            "The best least square error is\n",
            "510.72556026078445\n"
          ]
        },
        {
          "output_type": "display_data",
          "data": {
            "image/png": "[encoded data removed]",
            "text/plain": [
              "<Figure size 432x288 with 1 Axes>"
            ]
          },
          "metadata": {
            "needs_background": "light"
          }
        }
      ]
    },
    {
      "cell_type": "markdown",
      "metadata": {
        "id": "oHL574H8L6mQ"
      },
      "source": [
        "## Solve and Visualize for 4th Order (1.5 mark)"
      ]
    },
    {
      "cell_type": "code",
      "metadata": {
        "id": "8QyCw3bkL7o9",
        "colab": {
          "base_uri": "https://localhost:8080/",
          "height": 338
        },
        "outputId": "ef3922d7-ee2b-43cd-97f9-60b4717cad51"
      },
      "source": [
        "import pandas as pd\n",
        "import numpy as np\n",
        "import matplotlib.pyplot as plt\n",
        "\n",
        "df=pd.read_csv('4th_order.csv')\n",
        "x=list(df['x'])\n",
        "y=list(df['y'])\n",
        "\n",
        "a=Regression(4)\n",
        "print('The coeffecients of the best fit (in order of β0, β1, β2, β3, β4) are:')\n",
        "a.solve(x,y,40)\n",
        "a.visualize(True)"
      ],
      "execution_count": 10,
      "outputs": [
        {
          "output_type": "stream",
          "name": "stdout",
          "text": [
            "The coeffecients of the best fit (in order of β0, β1, β2, β3, β4) are:\n",
            "[1.0563463  4.08597558 5.05358156 1.07308517 3.42576536]\n",
            "The best least square error is\n",
            "1122.8345656620827\n"
          ]
        },
        {
          "output_type": "display_data",
          "data": {
            "image/png": "[encoded data removed]",
            "text/plain": [
              "<Figure size 432x288 with 1 Axes>"
            ]
          },
          "metadata": {
            "needs_background": "light"
          }
        }
      ]
    },
    {
      "cell_type": "markdown",
      "metadata": {
        "id": "iJ8EO8Q-M10v"
      },
      "source": [
        "## Report"
      ]
    },
    {
      "cell_type": "markdown",
      "metadata": {
        "id": "Pg8HjKObM5bG"
      },
      "source": [
        "### What is Linear Regression? (1 mark)"
      ]
    },
    {
      "cell_type": "markdown",
      "metadata": {
        "id": "431ruueMZ5jH"
      },
      "source": [
        "Linear Regression is linear approach for modelling the relationship between one or more dependent & independent variables and a scalar response. When multiple variables are involved then it is multiple linear regression.  Linear regression is a method in which we estimate the unknown model parameters from the data. Linear regression has many practical uses like match/goal prediction, forecasting etc."
      ]
    },
    {
      "cell_type": "markdown",
      "metadata": {
        "id": "ArfMyaWQM3ia"
      },
      "source": [
        "### Why RANSAC? (1 mark)"
      ]
    },
    {
      "cell_type": "markdown",
      "metadata": {
        "id": "bERpWWpncQVo"
      },
      "source": [
        "When the dataset has outliners because of the noise or other errorneous measurements, the model may give incorrect hypothesis about the interpretation of data. But when we use RANSAC, it uses repeated random sub-sampling. Hence, we can estimate the parameters of a model optimally(which fits better) even with the small amount of inliners in dataset."
      ]
    },
    {
      "cell_type": "markdown",
      "metadata": {
        "id": "seghjWxDjI9f"
      },
      "source": [
        "### How does RANSAC help curve fitting? (1.5 marks) \n",
        "[not more than 4-5 sentences]"
      ]
    },
    {
      "cell_type": "markdown",
      "metadata": {
        "id": "oKoH4pTJiFHR"
      },
      "source": [
        "RANSAC algorithm uses only some points of the dataset to estimate the model parameters but it maximizes the number of inliner points. Taking only the inliner points gives us the better estimate of the interpretation of the data and hence the better curve fitting. The parameter which we can adjust in order to improve the polynomial fit is lowering the maximum distance. Thus, putting a higher tolerance on inliner points can result in improving the better curve fitting. In RANSAC, we randomly select the points and hence the chances of estimating model parameters using only the inliner points increases and this is how it helps curve fitting."
      ]
    },
    {
      "cell_type": "code",
      "metadata": {
        "id": "oI70co6rnkJS"
      },
      "source": [
        ""
      ],
      "execution_count": null,
      "outputs": []
    }
  ]
}